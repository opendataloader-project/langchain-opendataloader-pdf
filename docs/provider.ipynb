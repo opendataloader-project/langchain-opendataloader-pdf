{
 "cells": [
  {
   "cell_type": "markdown",
   "metadata": {},
   "source": [
    "# OpenDataLoaderPDF\n",
    "\n",
    "OpenDataLoaderPDF is a platform that offers..."
   ]
  },
  {
   "cell_type": "code",
   "execution_count": 2,
   "metadata": {
    "id": "y8ku6X96sebl"
   },
   "outputs": [],
   "source": [
    "from langchain_opendataloader_pdf import ChatOpenDataLoaderPDF\n",
    "from langchain_opendataloader_pdf import OpenDataLoaderPDFLLM\n",
    "from langchain_opendataloader_pdf import OpenDataLoaderPDFVectorStore"
   ]
  }
 ],
 "metadata": {
  "colab": {
   "provenance": []
  },
  "kernelspec": {
   "display_name": "Python 3 (ipykernel)",
   "language": "python",
   "name": "python3"
  },
  "language_info": {
   "codemirror_mode": {
    "name": "ipython",
    "version": 3
   },
   "file_extension": ".py",
   "mimetype": "text/x-python",
   "name": "python",
   "nbconvert_exporter": "python",
   "pygments_lexer": "ipython3",
   "version": "3.10.11"
  }
 },
 "nbformat": 4,
 "nbformat_minor": 1
}
