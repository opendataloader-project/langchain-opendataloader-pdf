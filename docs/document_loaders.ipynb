{
  "cells": [
    {
      "cell_type": "markdown",
      "metadata": {},
      "source": [
        "# OpenDataLoaderPDFLoader"
      ]
    },
    {
      "cell_type": "markdown",
      "metadata": {},
      "source": [
        "## Installation"
      ]
    },
    {
      "cell_type": "code",
      "execution_count": null,
      "metadata": {},
      "outputs": [],
      "source": [
        "%pip install -qU langchain-opendataloader-pdf requests"
      ]
    },
    {
      "cell_type": "markdown",
      "metadata": {},
      "source": [
        "## Quickstart\n",
        "\n",
        "### Download Sample PDF"
      ]
    },
    {
      "cell_type": "code",
      "execution_count": null,
      "metadata": {},
      "outputs": [],
      "source": [
        "import requests\n",
        "import tempfile\n",
        "import os\n",
        "\n",
        "url = \"https://arxiv.org/pdf/2408.02509v1.pdf\"\n",
        "\n",
        "output_dir = tempfile.mkdtemp(dir=tempfile.gettempdir())\n",
        "filename = os.path.basename(url)\n",
        "save_path = os.path.join(output_dir, filename)\n",
        "\n",
        "response = requests.get(url, stream=True)\n",
        "with open(save_path, \"wb\") as f:\n",
        "    for chunk in response.iter_content(chunk_size=8192):\n",
        "        f.write(chunk)\n",
        "\n",
        "print(f\"Downloaded PDF to: {save_path}\")"
      ]
    },
    {
      "cell_type": "markdown",
      "metadata": {},
      "source": [
        "### Load documents with OpenDataLoaderPDFLoader"
      ]
    },
    {
      "cell_type": "code",
      "execution_count": null,
      "metadata": {},
      "outputs": [],
      "source": [
        "from langchain_opendataloader_pdf import OpenDataLoaderPDFLoader\n",
        "\n",
        "loader = OpenDataLoaderPDFLoader(file_path=save_path, format=\"markdown\", quiet=True)\n",
        "documents = loader.load()\n",
        "\n",
        "for doc in documents:\n",
        "    print(doc.metadata)\n",
        "    print(doc.page_content)"
      ]
    }
  ],
  "metadata": {
    "kernelspec": {
      "display_name": "3.13.7",
      "language": "python",
      "name": "python3"
    },
    "language_info": {
      "codemirror_mode": {
        "name": "ipython",
        "version": 3
      },
      "file_extension": ".py",
      "mimetype": "text/x-python",
      "name": "python",
      "nbconvert_exporter": "python",
      "pygments_lexer": "ipython3",
      "version": "3.13.7"
    }
  },
  "nbformat": 4,
  "nbformat_minor": 4
}
