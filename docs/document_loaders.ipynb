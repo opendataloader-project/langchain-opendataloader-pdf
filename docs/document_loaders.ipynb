{
  "cells": [
    {
      "cell_type": "markdown",
      "metadata": {},
      "source": [
        "# OpenDataLoaderPDFLoader"
      ]
    },
    {
      "cell_type": "markdown",
      "metadata": {},
      "source": [
        "## Installation"
      ]
    },
    {
      "cell_type": "code",
      "execution_count": 2,
      "metadata": {},
      "outputs": [
        {
          "name": "stdout",
          "output_type": "stream",
          "text": [
            "Note: you may need to restart the kernel to use updated packages.\n"
          ]
        }
      ],
      "source": [
        "%pip install -qU langchain_opendataloader_pdf requests"
      ]
    },
    {
      "cell_type": "markdown",
      "metadata": {},
      "source": [
        "## Quickstart\n",
        "\n",
        "### Download Sample PDF"
      ]
    },
    {
      "cell_type": "code",
      "execution_count": null,
      "metadata": {},
      "outputs": [
        {
          "name": "stdout",
          "output_type": "stream",
          "text": [
            "Downloaded PDF to: /var/folders/bz/8vvdzg4104sg4d8ysxy3y3qc0000gn/T/tmpy2bzzjco/2408.02509v1.pdf\n"
          ]
        }
      ],
      "source": [
        "import requests\n",
        "import tempfile\n",
        "import os\n",
        "\n",
        "url = \"https://arxiv.org/pdf/2408.02509v1.pdf\"\n",
        "\n",
        "output_dir = tempfile.mkdtemp(dir=tempfile.gettempdir())\n",
        "filename = os.path.basename(url)\n",
        "save_path = os.path.join(output_dir, filename)\n",
        "\n",
        "response = requests.get(url, stream=True)\n",
        "with open(save_path, \"wb\") as f:\n",
        "    for chunk in response.iter_content(chunk_size=8192):\n",
        "        f.write(chunk)\n",
        "\n",
        "print(f\"Downloaded PDF to: {save_path}\")"
      ]
    },
    {
      "cell_type": "markdown",
      "metadata": {},
      "source": [
        "### Load documents with OpenDataLoaderPDFLoader"
      ]
    },
    {
      "cell_type": "code",
      "execution_count": 1,
      "metadata": {},
      "outputs": [
        {
          "ename": "NameError",
          "evalue": "name 'save_path' is not defined",
          "output_type": "error",
          "traceback": [
            "\u001b[31m---------------------------------------------------------------------------\u001b[39m",
            "\u001b[31mNameError\u001b[39m                                 Traceback (most recent call last)",
            "\u001b[36mCell\u001b[39m\u001b[36m \u001b[39m\u001b[32mIn[1]\u001b[39m\u001b[32m, line 3\u001b[39m\n\u001b[32m      1\u001b[39m \u001b[38;5;28;01mfrom\u001b[39;00m\u001b[38;5;250m \u001b[39m\u001b[34;01mlangchain_opendataloader_pdf\u001b[39;00m\u001b[38;5;250m \u001b[39m\u001b[38;5;28;01mimport\u001b[39;00m OpenDataLoaderPDFLoader\n\u001b[32m----> \u001b[39m\u001b[32m3\u001b[39m loader = OpenDataLoaderPDFLoader(file_path=\u001b[43msave_path\u001b[49m, \u001b[38;5;28mformat\u001b[39m=\u001b[33m\"\u001b[39m\u001b[33mmarkdown\u001b[39m\u001b[33m\"\u001b[39m, quiet=\u001b[38;5;28;01mTrue\u001b[39;00m)\n\u001b[32m      4\u001b[39m documents = loader.load()\n\u001b[32m      6\u001b[39m \u001b[38;5;28;01mfor\u001b[39;00m doc \u001b[38;5;129;01min\u001b[39;00m documents:\n",
            "\u001b[31mNameError\u001b[39m: name 'save_path' is not defined"
          ]
        }
      ],
      "source": [
        "from langchain_opendataloader_pdf import OpenDataLoaderPDFLoader\n",
        "\n",
        "loader = OpenDataLoaderPDFLoader(file_path=save_path, format=\"markdown\", quiet=True)\n",
        "documents = loader.load()\n",
        "\n",
        "for doc in documents:\n",
        "    print(doc.metadata)\n",
        "    print(doc.page_content)"
      ]
    }
  ],
  "metadata": {
    "kernelspec": {
      "display_name": "3.13.7",
      "language": "python",
      "name": "python3"
    },
    "language_info": {
      "codemirror_mode": {
        "name": "ipython",
        "version": 3
      },
      "file_extension": ".py",
      "mimetype": "text/x-python",
      "name": "python",
      "nbconvert_exporter": "python",
      "pygments_lexer": "ipython3",
      "version": "3.13.7"
    }
  },
  "nbformat": 4,
  "nbformat_minor": 4
}
